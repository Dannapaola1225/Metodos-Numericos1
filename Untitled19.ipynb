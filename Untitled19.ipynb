{
  "nbformat": 4,
  "nbformat_minor": 0,
  "metadata": {
    "colab": {
      "provenance": [],
      "authorship_tag": "ABX9TyNgBpWtvQSGMwwK/saToDyz",
      "include_colab_link": true
    },
    "kernelspec": {
      "name": "python3",
      "display_name": "Python 3"
    },
    "language_info": {
      "name": "python"
    }
  },
  "cells": [
    {
      "cell_type": "markdown",
      "metadata": {
        "id": "view-in-github",
        "colab_type": "text"
      },
      "source": [
        "<a href=\"https://colab.research.google.com/github/Dannapaola1225/Metodos-Numericos1/blob/main/Untitled19.ipynb\" target=\"_parent\"><img src=\"https://colab.research.google.com/assets/colab-badge.svg\" alt=\"Open In Colab\"/></a>"
      ]
    },
    {
      "cell_type": "code",
      "execution_count": 1,
      "metadata": {
        "colab": {
          "base_uri": "https://localhost:8080/"
        },
        "id": "u7ZZI0ell_Ym",
        "outputId": "7d0a0444-8024-45ec-c9c5-50e8cf2d3c2c"
      },
      "outputs": [
        {
          "output_type": "stream",
          "name": "stdout",
          "text": [
            "El valor interpolado en x = 1.5 es: 0.75\n"
          ]
        }
      ],
      "source": [
        "def neville(x_points, y_points, x_eval):\n",
        "    \"\"\"\n",
        "    Implementación del método de interpolación de Neville.\n",
        "\n",
        "    Parámetros:\n",
        "        x_points: Lista de puntos x dados (números reales).\n",
        "        y_points: Lista de valores f(x) correspondientes a los puntos x.\n",
        "        x_eval:   El valor de x donde se evaluará el polinomio interpolado.\n",
        "\n",
        "    Retorna:\n",
        "        El valor interpolado en x_eval.\n",
        "    \"\"\"\n",
        "    n = len(x_points)\n",
        "    Q = [[0 for _ in range(n)] for _ in range(n)]  # Matriz Q inicializada con ceros\n",
        "\n",
        "    # Paso 1: Inicializar la primera columna con los valores f(x)\n",
        "    for i in range(n):\n",
        "        Q[i][0] = y_points[i]\n",
        "\n",
        "    # Paso 2: Calcular Q[i,j] de acuerdo con la fórmula del método de Neville\n",
        "    for j in range(1, n):\n",
        "        for i in range(n - j):\n",
        "            Q[i][j] = ((x_eval - x_points[i + j]) * Q[i][j - 1] -\n",
        "                       (x_eval - x_points[i]) * Q[i + 1][j - 1]) / \\\n",
        "                      (x_points[i] - x_points[i + j])\n",
        "\n",
        "    # El valor interpolado es el primer elemento de la última columna calculada\n",
        "    return Q[0][n - 1]\n",
        "\n",
        "\n",
        "# Ejemplo de uso:\n",
        "x_points = [0, 1, 2, 3]  # Puntos x\n",
        "y_points = [1, 2, 0, 5]  # Valores f(x) correspondientes\n",
        "x_eval = 1.5             # Punto donde queremos evaluar\n",
        "\n",
        "result = neville(x_points, y_points, x_eval)\n",
        "print(f\"El valor interpolado en x = {x_eval} es: {result}\")"
      ]
    }
  ]
}