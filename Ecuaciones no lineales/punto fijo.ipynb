{
  "cells": [
    {
      "cell_type": "markdown",
      "metadata": {
        "id": "view-in-github",
        "colab_type": "text"
      },
      "source": [
        "<a href=\"https://colab.research.google.com/github/Dannapaola1225/Metodos-Numericos1/blob/main/Ecuaciones%20no%20lineales/punto%20fijo.ipynb\" target=\"_parent\"><img src=\"https://colab.research.google.com/assets/colab-badge.svg\" alt=\"Open In Colab\"/></a>"
      ]
    },
    {
      "cell_type": "markdown",
      "id": "3154e14b",
      "metadata": {
        "id": "3154e14b"
      },
      "source": [
        "# Método de punto fijo"
      ]
    },
    {
      "cell_type": "code",
      "execution_count": 13,
      "id": "9d5e2287",
      "metadata": {
        "id": "9d5e2287"
      },
      "outputs": [],
      "source": [
        "from math import *\n",
        "import numpy as np\n",
        "import matplotlib . pyplot as plt # libreria para graficar"
      ]
    },
    {
      "cell_type": "code",
      "execution_count": 14,
      "id": "db980446",
      "metadata": {
        "id": "db980446"
      },
      "outputs": [],
      "source": [
        "#reescribimos la función f(x)=x^3-x-1 para encontrar el punto fijo quedando de la forma presentada a continuación ademas de que f´(x)<1 por lo tanto existe el punto fijo\n",
        "def funcion1(x):\n",
        "    return  (x-1)**(1/3)"
      ]
    },
    {
      "cell_type": "code",
      "execution_count": 15,
      "id": "679a51af",
      "metadata": {
        "colab": {
          "base_uri": "https://localhost:8080/"
        },
        "id": "679a51af",
        "outputId": "da0d571a-f8c5-4284-e79c-5c34e9d4345b"
      },
      "outputs": [
        {
          "name": "stdout",
          "output_type": "stream",
          "text": [
            "ingrese la aproximación inicial1\n",
            "Ingrese el valor de la tolerancia: 0.001\n",
            "Ingrese el número máximo de iteraciones: 14\n"
          ]
        }
      ],
      "source": [
        "#guarda valores iniciales del error y del número de iteraciones\n",
        "#definimos en donde será evaluada la función\n",
        "g=funcion1\n",
        "p0=(input(\"ingrese la aproximación inicial\"))\n",
        "tol = (input(\"Ingrese el valor de la tolerancia: \"))#aqui el usuario ingresa la tolerancia\n",
        "Nom = float(input(\"Ingrese el número máximo de iteraciones: \"))#se ingresa el número maximo de iteraciones\n",
        "error = 100\n",
        "i=0\n",
        "niter = 0#contador de iteraciones"
      ]
    },
    {
      "cell_type": "code",
      "execution_count": 19,
      "id": "6b4c08a0",
      "metadata": {
        "colab": {
          "base_uri": "https://localhost:8080/",
          "height": 315
        },
        "id": "6b4c08a0",
        "outputId": "4e74b32e-070f-447a-ca55-c94b45e44c21"
      },
      "outputs": [
        {
          "output_type": "error",
          "ename": "TypeError",
          "evalue": "unsupported operand type(s) for -: 'str' and 'int'",
          "traceback": [
            "\u001b[0;31m---------------------------------------------------------------------------\u001b[0m",
            "\u001b[0;31mTypeError\u001b[0m                                 Traceback (most recent call last)",
            "\u001b[0;32m<ipython-input-19-4bc3cbae90ae>\u001b[0m in \u001b[0;36m<cell line: 4>\u001b[0;34m()\u001b[0m\n\u001b[1;32m      2\u001b[0m \u001b[0;31m#definimos en donde será evaluada la función\u001b[0m\u001b[0;34m\u001b[0m\u001b[0;34m\u001b[0m\u001b[0m\n\u001b[1;32m      3\u001b[0m \u001b[0mg\u001b[0m\u001b[0;34m=\u001b[0m\u001b[0mfuncion1\u001b[0m\u001b[0;34m\u001b[0m\u001b[0;34m\u001b[0m\u001b[0m\n\u001b[0;32m----> 4\u001b[0;31m \u001b[0mp\u001b[0m\u001b[0;34m=\u001b[0m \u001b[0mfuncion1\u001b[0m\u001b[0;34m(\u001b[0m\u001b[0mp0\u001b[0m\u001b[0;34m)\u001b[0m \u001b[0;31m#evaluamos la función con p0\u001b[0m\u001b[0;34m\u001b[0m\u001b[0;34m\u001b[0m\u001b[0m\n\u001b[0m\u001b[1;32m      5\u001b[0m \u001b[0;31m#estructura de la tabla\u001b[0m\u001b[0;34m\u001b[0m\u001b[0;34m\u001b[0m\u001b[0m\n\u001b[1;32m      6\u001b[0m \u001b[0mprint\u001b[0m\u001b[0;34m(\u001b[0m\u001b[0;34m\"# iter\\t\\t p\\t\\t g(p) \\t\\t error\"\u001b[0m\u001b[0;34m)\u001b[0m\u001b[0;34m\u001b[0m\u001b[0;34m\u001b[0m\u001b[0m\n",
            "\u001b[0;32m<ipython-input-14-0da6df1b3d6f>\u001b[0m in \u001b[0;36mfuncion1\u001b[0;34m(x)\u001b[0m\n\u001b[1;32m      1\u001b[0m \u001b[0;31m#reescribimos la función f(x)=x^3-x-1 para encontrar el punto fijo quedando de la forma presentada a continuación ademas de que f´(x)<1 por lo tanto existe el punto fijo\u001b[0m\u001b[0;34m\u001b[0m\u001b[0;34m\u001b[0m\u001b[0m\n\u001b[1;32m      2\u001b[0m \u001b[0;32mdef\u001b[0m \u001b[0mfuncion1\u001b[0m\u001b[0;34m(\u001b[0m\u001b[0mx\u001b[0m\u001b[0;34m)\u001b[0m\u001b[0;34m:\u001b[0m\u001b[0;34m\u001b[0m\u001b[0;34m\u001b[0m\u001b[0m\n\u001b[0;32m----> 3\u001b[0;31m     \u001b[0;32mreturn\u001b[0m  \u001b[0;34m(\u001b[0m\u001b[0mx\u001b[0m\u001b[0;34m-\u001b[0m\u001b[0;36m1\u001b[0m\u001b[0;34m)\u001b[0m\u001b[0;34m**\u001b[0m\u001b[0;34m(\u001b[0m\u001b[0;36m1\u001b[0m\u001b[0;34m/\u001b[0m\u001b[0;36m3\u001b[0m\u001b[0;34m)\u001b[0m\u001b[0;34m\u001b[0m\u001b[0;34m\u001b[0m\u001b[0m\n\u001b[0m",
            "\u001b[0;31mTypeError\u001b[0m: unsupported operand type(s) for -: 'str' and 'int'"
          ]
        }
      ],
      "source": [
        "# comenzamos a aplicar el método de punto fijo\n",
        "p= g(p0) #evaluamos la función con p0\n",
        "#estructura de la tabla\n",
        "print(\"# iter\\t\\t p\\t\\t g(p) \\t\\t error\")\n",
        "print(\"{0} \\t\\t {1:6.4f} \\t {2:6.4f} \\t {3:6.4f} \\t {4:6.4f}\".format(niter, p0, gp, error ))\n",
        "#expresamos la condición en dónde si i<=No(número máximo de iteraciones), realizamos los siguientes pasos\n",
        "while i<=Nom: #ciclo iterativo\n",
        "    p= g(p0)\n",
        "    if abs(p-p0)<tol: #ponemos una condición en dónde si el valor absoluto de p menos p0 es menor que la tolerancia, el procedimiento será exitoso\n",
        "          return p\n",
        "    p0=p\n",
        "    niter += 1\n",
        "\n",
        "    print(\"{0} \\t\\t {1:6.6f} \\t {2:6.6f} \\t {3:6.6f} \\t {4:6.6f}\".format(niter, p, gp, error ))\n",
        "\n",
        "print(\"La raíz de la función dada en el intervalo [{0:6.4f},{1:6.4f}] es {2:6.7f}\".format(p0,gp))"
      ]
    },
    {
      "cell_type": "code",
      "execution_count": null,
      "id": "b59ace03",
      "metadata": {
        "id": "b59ace03"
      },
      "outputs": [],
      "source": []
    }
  ],
  "metadata": {
    "kernelspec": {
      "display_name": "Python 3 (ipykernel)",
      "language": "python",
      "name": "python3"
    },
    "language_info": {
      "codemirror_mode": {
        "name": "ipython",
        "version": 3
      },
      "file_extension": ".py",
      "mimetype": "text/x-python",
      "name": "python",
      "nbconvert_exporter": "python",
      "pygments_lexer": "ipython3",
      "version": "3.7.3"
    },
    "colab": {
      "provenance": [],
      "include_colab_link": true
    }
  },
  "nbformat": 4,
  "nbformat_minor": 5
}