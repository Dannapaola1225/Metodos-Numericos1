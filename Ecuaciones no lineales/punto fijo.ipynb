{
  "cells": [
    {
      "cell_type": "markdown",
      "metadata": {
        "id": "view-in-github",
        "colab_type": "text"
      },
      "source": [
        "<a href=\"https://colab.research.google.com/github/Dannapaola1225/Metodos-Numericos1/blob/main/Ecuaciones%20no%20lineales/punto%20fijo.ipynb\" target=\"_parent\"><img src=\"https://colab.research.google.com/assets/colab-badge.svg\" alt=\"Open In Colab\"/></a>"
      ]
    },
    {
      "cell_type": "markdown",
      "id": "3154e14b",
      "metadata": {
        "id": "3154e14b"
      },
      "source": [
        "# Método de punto fijo"
      ]
    },
    {
      "cell_type": "code",
      "execution_count": 1,
      "id": "9d5e2287",
      "metadata": {
        "id": "9d5e2287"
      },
      "outputs": [],
      "source": [
        "from math import *\n",
        "import numpy as np\n",
        "import matplotlib . pyplot as plt # libreria para graficar"
      ]
    },
    {
      "cell_type": "code",
      "execution_count": 2,
      "id": "db980446",
      "metadata": {
        "id": "db980446"
      },
      "outputs": [],
      "source": [
        "#reescribimos la función f(x)=x^3-x-1 para encontrar el punto fijo quedando de la forma presentada a continuación ademas de que f´(x)<1 por lo tanto existe el punto fijo\n",
        "def g(x):\n",
        "    return  (x-1)**(1/3)"
      ]
    },
    {
      "cell_type": "code",
      "execution_count": 3,
      "id": "679a51af",
      "metadata": {
        "id": "679a51af"
      },
      "outputs": [],
      "source": [
        "# Ingreso datos de entrada para los diferentes métodos a trabajar\n",
        "#a = 1\n",
        "#b = 2\n",
        "\n",
        "# guarda valores iniciales\n",
        "#a0 = a\n",
        "#b0 = b\n",
        "\n",
        "#guarda valores iniciales del error y del número de iteraciones\n",
        "p0=(input(\"ingrese la aproximación inicial\"))\n",
        "tol = (input(\"Ingrese el valor de la tolerancia: \"))#aqui el usuario ingresa la tolerancia\n",
        "No = float(input(\"Ingrese el número máximo de iteraciones: \"))#se ingresa el número maximo de iteraciones\n",
        "error = 100\n",
        "i=0\n",
        "niter = 0#contador de iteraciones"
      ]
    },
    {
      "cell_type": "code",
      "execution_count": 4,
      "id": "6b4c08a0",
      "metadata": {
        "id": "6b4c08a0",
        "outputId": "ee60ad4b-f91a-44a0-df54-b49eaccb4636",
        "colab": {
          "base_uri": "https://localhost:8080/"
        }
      },
      "outputs": [
        {
          "output_type": "stream",
          "name": "stdout",
          "text": [
            "# iter\t\t a \t\t f(a) \t\t b \t\t f(b) \t\t m \t\t f(m) \t\t error\n",
            "0 \t\t 1.0000 \t -5.0000 \t 2.0000 \t 14.0000 \t 1.5000 \t 2.3750 \t 100.0000\n",
            "1 \t\t 1.000000 \t -5.000000 \t 1.500000 \t 2.375000 \t 1.250000 \t -1.796875 \t 0.500000\n",
            "2 \t\t 1.250000 \t -1.796875 \t 1.500000 \t 2.375000 \t 1.375000 \t 0.162109 \t 0.250000\n",
            "3 \t\t 1.250000 \t -1.796875 \t 1.375000 \t 0.162109 \t 1.312500 \t -0.848389 \t 0.125000\n",
            "4 \t\t 1.312500 \t -0.848389 \t 1.375000 \t 0.162109 \t 1.343750 \t -0.350983 \t 0.062500\n",
            "5 \t\t 1.343750 \t -0.350983 \t 1.375000 \t 0.162109 \t 1.359375 \t -0.096409 \t 0.031250\n",
            "6 \t\t 1.359375 \t -0.096409 \t 1.375000 \t 0.162109 \t 1.367188 \t 0.032356 \t 0.015625\n",
            "7 \t\t 1.359375 \t -0.096409 \t 1.367188 \t 0.032356 \t 1.363281 \t -0.032150 \t 0.007812\n",
            "8 \t\t 1.363281 \t -0.032150 \t 1.367188 \t 0.032356 \t 1.365234 \t 0.000072 \t 0.003906\n",
            "9 \t\t 1.363281 \t -0.032150 \t 1.365234 \t 0.000072 \t 1.364258 \t -0.016047 \t 0.001953\n",
            "10 \t\t 1.364258 \t -0.016047 \t 1.365234 \t 0.000072 \t 1.364746 \t -0.007989 \t 0.000977\n",
            "11 \t\t 1.364746 \t -0.007989 \t 1.365234 \t 0.000072 \t 1.364990 \t -0.003959 \t 0.000488\n",
            "12 \t\t 1.364990 \t -0.003959 \t 1.365234 \t 0.000072 \t 1.365112 \t -0.001944 \t 0.000244\n",
            "13 \t\t 1.365112 \t -0.001944 \t 1.365234 \t 0.000072 \t 1.365173 \t -0.000936 \t 0.000122\n",
            "14 \t\t 1.365173 \t -0.000936 \t 1.365234 \t 0.000072 \t 1.365204 \t -0.000432 \t 0.000061\n",
            "15 \t\t 1.365204 \t -0.000432 \t 1.365234 \t 0.000072 \t 1.365219 \t -0.000180 \t 0.000031\n",
            "16 \t\t 1.365219 \t -0.000180 \t 1.365234 \t 0.000072 \t 1.365227 \t -0.000054 \t 0.000015\n",
            "17 \t\t 1.365227 \t -0.000054 \t 1.365234 \t 0.000072 \t 1.365231 \t 0.000009 \t 0.000008\n",
            "18 \t\t 1.365227 \t -0.000054 \t 1.365231 \t 0.000009 \t 1.365229 \t -0.000022 \t 0.000004\n",
            "19 \t\t 1.365229 \t -0.000022 \t 1.365231 \t 0.000009 \t 1.365230 \t -0.000007 \t 0.000002\n",
            "20 \t\t 1.365230 \t -0.000007 \t 1.365231 \t 0.000009 \t 1.365230 \t 0.000001 \t 0.000001\n",
            "La raíz de la función dada en el intervalo [1.0000,2.0000] es 1.3652301\n"
          ]
        }
      ],
      "source": [
        "# comenzamos a aplicar el método de punto fijo\n",
        "#expresamos la condición en dónde si i<=No(número máximo de iteraciones), realizamos los siguientes pasos\n",
        "while i<=No:\n",
        "  p=g(p0) #evaluamos la función con p0\n",
        "  if abs(p-p0)<tol #ponemos una condición en dónde si el valor absoluto de p menos p0 es menor que la tolerancia, el procedimiento será exitoso\n",
        "\n",
        "\n",
        "print(\"# iter\\t\\t p\\t\\t g(p) \\t\\t error\")\n",
        "print(\"{0} \\t\\t {1:6.4f} \\t {2:6.4f} \\t {3:6.4f} \\t {4:6.4f} \\t {5:6.4f} \\t {6:6.4f} \\t {7:6.4f}\".format(niter, p0, gp, error ))\n",
        "\n",
        "# ciclo iterativo\n",
        "while error > tol and niter < nmax:\n",
        "    m = a + (b - a) / 2\n",
        "    if np.sign(fa) == np.sign(fm):\n",
        "        a = m\n",
        "        fa = funcion1(a)\n",
        "    else:\n",
        "        b = m\n",
        "        fb = funcion1(b)\n",
        "\n",
        "    m = a + (b - a)/2\n",
        "    fm = funcion1(m)\n",
        "    error = abs(b - a)\n",
        "    niter += 1\n",
        "    print(\"{0} \\t\\t {1:6.6f} \\t {2:6.6f} \\t {3:6.6f} \\t {4:6.6f} \\t {5:6.6f} \\t {6:6.6f} \\t {7:6.6f}\".format(niter, a, fa, b, fb, m, fm, error ))\n",
        "\n",
        "print(\"La raíz de la función dada en el intervalo [{0:6.4f},{1:6.4f}] es {2:6.7f}\".format(a0,b0,m))"
      ]
    },
    {
      "cell_type": "code",
      "execution_count": null,
      "id": "b59ace03",
      "metadata": {
        "id": "b59ace03"
      },
      "outputs": [],
      "source": []
    }
  ],
  "metadata": {
    "kernelspec": {
      "display_name": "Python 3 (ipykernel)",
      "language": "python",
      "name": "python3"
    },
    "language_info": {
      "codemirror_mode": {
        "name": "ipython",
        "version": 3
      },
      "file_extension": ".py",
      "mimetype": "text/x-python",
      "name": "python",
      "nbconvert_exporter": "python",
      "pygments_lexer": "ipython3",
      "version": "3.7.3"
    },
    "colab": {
      "provenance": [],
      "include_colab_link": true
    }
  },
  "nbformat": 4,
  "nbformat_minor": 5
}